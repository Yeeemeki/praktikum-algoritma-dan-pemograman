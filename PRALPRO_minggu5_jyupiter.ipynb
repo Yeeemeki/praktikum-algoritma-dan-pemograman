{
 "cells": [
  {
   "cell_type": "code",
   "execution_count": 1,
   "metadata": {},
   "outputs": [
    {
     "name": "stdout",
     "output_type": "stream",
     "text": [
      "3 x 4 = 3 + 3 + 3 + 3 = 12\n"
     ]
    }
   ],
   "source": [
    "def perkalian(a, b):\n",
    "    hasil = 0\n",
    "    for i in range(b):\n",
    "        hasil += a\n",
    "    return hasil\n",
    "\n",
    "def main():\n",
    "    angka1 = int(input(\"Masukkan angka pertama: \"))\n",
    "    angka2 = int(input(\"Masukkan angka kedua: \"))\n",
    "\n",
    "    hasil_perkalian = perkalian(angka1, angka2)\n",
    "    print(f\"{angka1} x {angka2} = \", end=\"\")\n",
    "    for i in range(angka2 - 1):\n",
    "        print(f\"{angka1} + \", end=\"\")\n",
    "    print(f\"{angka1} = {hasil_perkalian}\")\n",
    "\n",
    "if __name__ == \"__main__\":\n",
    "    main()"
   ]
  },
  {
   "cell_type": "code",
   "execution_count": 2,
   "metadata": {},
   "outputs": [
    {
     "name": "stdout",
     "output_type": "stream",
     "text": [
      "deret ganjil =\n",
      "29 27 25 23 21 19 17 15 13 11 "
     ]
    }
   ],
   "source": [
    "def ganjil(bawah, atas):\n",
    "    if bawah < atas:\n",
    "        print(\"deret ganjil =\")\n",
    "        for i in range(bawah, atas+1):\n",
    "            if i%2!=0:\n",
    "                print(i, end=\" \" )\n",
    "    elif bawah > atas:\n",
    "        print (\"deret ganjil =\")\n",
    "        for i in range(bawah, atas-1,-1):\n",
    "            if i%2!=0:\n",
    "                print(i, end=\" \")      \n",
    "    else:\n",
    "        False    \n",
    "def main():\n",
    "    bawah = int(input(\"Masukkan batas bawah: \"))\n",
    "    atas = int(input(\"Masukkan batas atas: \"))\n",
    "    \n",
    "    ganjil(bawah, atas)\n",
    "if __name__ == \"__main__\":\n",
    "    main()"
   ]
  },
  {
   "cell_type": "code",
   "execution_count": 3,
   "metadata": {},
   "outputs": [
    {
     "name": "stdout",
     "output_type": "stream",
     "text": [
      "jumlah ips anda adalah 3.50\n"
     ]
    }
   ],
   "source": [
    "def matkul(jumlah):\n",
    "    total_nilai = jumlah*3\n",
    "    total_bobot = 0\n",
    "\n",
    "    for i in range(jumlah):\n",
    "        nilai = input(f\"masukan input untuk mata kuliah {i+1} (A/B/C/D)= \")\n",
    "\n",
    "        if nilai == \"A\":\n",
    "            bobot = 4*3\n",
    "        elif nilai == \"B\":\n",
    "            bobot = 3*3\n",
    "        elif nilai == \"C\":\n",
    "            bobot = 2*3\n",
    "        elif nilai == \"D\":\n",
    "            bobot = 1*3\n",
    "        else:\n",
    "            print (\"input tidak valid\")\n",
    "            return\n",
    "        \n",
    "        total_bobot += bobot\n",
    "    ips = total_bobot / total_nilai\n",
    "    return ips\n",
    "\n",
    "def main():\n",
    "    jumlah = int(input(\"masukan jumlah matkul = \"))\n",
    "    if jumlah <=0:\n",
    "        print (\"tidak valid\")\n",
    "        return\n",
    "    ips = matkul(jumlah)\n",
    "\n",
    "    if ips != None:\n",
    "        print (f\"jumlah ips anda adalah {ips:.2f}\")\n",
    "\n",
    "if __name__ == \"__main__\":\n",
    "    main()"
   ]
  }
 ],
 "metadata": {
  "kernelspec": {
   "display_name": "Python 3",
   "language": "python",
   "name": "python3"
  },
  "language_info": {
   "codemirror_mode": {
    "name": "ipython",
    "version": 3
   },
   "file_extension": ".py",
   "mimetype": "text/x-python",
   "name": "python",
   "nbconvert_exporter": "python",
   "pygments_lexer": "ipython3",
   "version": "3.11.5"
  }
 },
 "nbformat": 4,
 "nbformat_minor": 2
}
