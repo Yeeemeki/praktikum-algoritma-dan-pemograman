{
 "cells": [
  {
   "cell_type": "code",
   "execution_count": 1,
   "metadata": {},
   "outputs": [
    {
     "name": "stdout",
     "output_type": "stream",
     "text": [
      "True\n"
     ]
    }
   ],
   "source": [
    "def sama(tup):\n",
    "    return len(set(tup)) <= 1\n",
    "\n",
    "tup1 = (90,90,90,90)\n",
    "print(sama(tup1))"
   ]
  },
  {
   "cell_type": "code",
   "execution_count": 1,
   "metadata": {},
   "outputs": [
    {
     "name": "stdout",
     "output_type": "stream",
     "text": [
      "Data: ('Matahari Bhakti Nendya', '22064091', 'Bantul, DI Yogyakarta')\n",
      "NIM: 22064091\n",
      "NAMA: Matahari Bhakti Nendya\n",
      "ALAMAT: Bantul, DI Yogyakarta\n",
      "NIM: ('2', '2', '0', '6', '4', '0', '9', '1')\n",
      "NAMA DEPAN: ('a', 't', 'a', 'h', 'a', 'r', 'i')\n",
      "NAMA TERBALIK: ('Nendya', 'Bhakti', 'Matahari')\n"
     ]
    }
   ],
   "source": [
    "def p_d(data):\n",
    "    nim = (data[1])\n",
    "    nama_lengkap = data[0]\n",
    "    alamat = data[2]\n",
    "    namadepan =[]\n",
    "    for i in data:\n",
    "        kata = i.split()\n",
    "        namadepan.append(kata[0])\n",
    "    nama_terbalik = tuple(nama_lengkap.split()[::-1])\n",
    "    \n",
    "    print(\"Data:\", data)\n",
    "    print(\"NIM:\", nim)\n",
    "    print(\"NAMA:\", nama_lengkap)\n",
    "    print(\"ALAMAT:\", alamat)\n",
    "    print(\"NIM:\", tuple(data[1]))\n",
    "    print(\"NAMA DEPAN:\", tuple(namadepan[0])[1:])\n",
    "    print(\"NAMA TERBALIK:\", nama_terbalik)\n",
    "\n",
    "\n",
    "data_diri = ('Matahari Bhakti Nendya', '22064091', 'Bantul, DI Yogyakarta')\n",
    "p_d(data_diri)\n"
   ]
  },
  {
   "cell_type": "code",
   "execution_count": 3,
   "metadata": {},
   "outputs": [
    {
     "name": "stdout",
     "output_type": "stream",
     "text": [
      "04 3\n",
      "06 1\n",
      "07 1\n",
      "09 2\n",
      "10 3\n",
      "11 6\n",
      "14 1\n",
      "15 2\n",
      "16 4\n",
      "17 2\n",
      "18 1\n",
      "19 1\n"
     ]
    }
   ],
   "source": [
    "def hitung_distribusi_jam(file_name):\n",
    "    try:\n",
    "        with open(file_name) as file:\n",
    "            d_j = dict()\n",
    "\n",
    "            for i in file:\n",
    "                if i.startswith('From '):\n",
    "                    kata = i.split()\n",
    "                    jam = kata[5].split(':')[0]\n",
    "                    d_j[jam] = d_j.get(jam, 0) + 1\n",
    "\n",
    "            for jam in sorted(d_j.keys()):\n",
    "                print(jam, d_j[jam])\n",
    "\n",
    "    except FileNotFoundError:\n",
    "        print(\"File tidak ditemukan.\")\n",
    "\n",
    "nama_file = input(\"Masukkan nama file: \")\n",
    "hitung_distribusi_jam(nama_file)"
   ]
  }
 ],
 "metadata": {
  "kernelspec": {
   "display_name": "Python 3",
   "language": "python",
   "name": "python3"
  },
  "language_info": {
   "codemirror_mode": {
    "name": "ipython",
    "version": 3
   },
   "file_extension": ".py",
   "mimetype": "text/x-python",
   "name": "python",
   "nbconvert_exporter": "python",
   "pygments_lexer": "ipython3",
   "version": "3.11.5"
  }
 },
 "nbformat": 4,
 "nbformat_minor": 2
}
