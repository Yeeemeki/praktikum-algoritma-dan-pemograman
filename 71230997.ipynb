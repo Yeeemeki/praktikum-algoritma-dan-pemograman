{
 "cells": [
  {
   "cell_type": "code",
   "execution_count": 1,
   "metadata": {},
   "outputs": [
    {
     "name": "stdout",
     "output_type": "stream",
     "text": [
      "key\tvalue\titem\n",
      "1\t10\t1\n",
      "2\t20\t2\n",
      "3\t30\t3\n",
      "4\t40\t4\n",
      "5\t50\t5\n",
      "6\t60\t6\n"
     ]
    }
   ],
   "source": [
    "dictionary = {1: 10, 2: 20, 3: 30, 4: 40, 5: 50, 6: 60}\n",
    "\n",
    "print(\"key\", \"value\", \"item\", sep='\\t')\n",
    "\n",
    "for key, value in dictionary.items():\n",
    "    print(key, value, key, sep='\\t')\n"
   ]
  },
  {
   "cell_type": "code",
   "execution_count": 2,
   "metadata": {},
   "outputs": [
    {
     "name": "stdout",
     "output_type": "stream",
     "text": [
      "{'red': '#FF0000', 'green': '#008000', 'blue': '#0000FF'}\n"
     ]
    }
   ],
   "source": [
    "list1 = []\n",
    "while True:\n",
    "    isi = input('masukan isi list / ketik \"selesai\" untuk lanjut ke list 2 = ')\n",
    "    if isi.lower() == 'selesai':\n",
    "        break\n",
    "    else:\n",
    "        list1.append(isi)\n",
    "list2 = []\n",
    "while True:\n",
    "    isi2 = input('masukan isi list / ketik \"selesai\" untuk seelsai = ')\n",
    "    if isi2.lower() == 'selesai':\n",
    "        break\n",
    "    else:\n",
    "        list2.append(isi2)\n",
    "\n",
    "result_dict = dict(zip(list1, list2))\n",
    "print (result_dict)"
   ]
  },
  {
   "cell_type": "code",
   "execution_count": 3,
   "metadata": {},
   "outputs": [
    {
     "name": "stdout",
     "output_type": "stream",
     "text": [
      "{'stephen.marquard@uct.ac.za': 2, 'louis@media.berkeley.edu': 3, 'zqian@umich.edu': 4, 'rjlowe@iupui.edu': 2, 'cwen@iupui.edu': 5, 'gsilver@umich.edu': 3, 'wagnermr@iupui.edu': 1, 'antranig@caret.cam.ac.uk': 1, 'gopal.ramasammycook@gmail.com': 1, 'david.horwitz@uct.ac.za': 4, 'ray@media.berkeley.edu': 1}\n"
     ]
    }
   ],
   "source": [
    "n_f = \"mbox-short.txt\"\n",
    "file = open('mbox-short.txt', 'r')\n",
    "\n",
    "h_e = {}\n",
    "for i in file:\n",
    "    if i.startswith('From '):\n",
    "        kata = i.split()\n",
    "        email = kata[1]\n",
    "        h_e[email] = h_e.get(email, 0) + 1\n",
    "file.close()\n",
    "\n",
    "print(h_e)"
   ]
  },
  {
   "cell_type": "code",
   "execution_count": 4,
   "metadata": {},
   "outputs": [
    {
     "name": "stdout",
     "output_type": "stream",
     "text": [
      "{'uct.ac.za': 6, 'media.berkeley.edu': 4, 'umich.edu': 7, 'iupui.edu': 8, 'caret.cam.ac.uk': 1, 'gmail.com': 1}\n"
     ]
    }
   ],
   "source": [
    "n_f = \"mbox-short.txt\"\n",
    "file = open('mbox-short.txt', 'r')\n",
    "\n",
    "hitung = {}\n",
    "for i in file:\n",
    "    if i.startswith('From '):\n",
    "        kata = i.split()\n",
    "        email = kata[1]\n",
    "        hm = email.find('@')\n",
    "        ha = email[hm + 1:]\n",
    "        hitung[ha] = hitung.get(ha, 0)+1\n",
    "file.close()\n",
    "\n",
    "print(hitung)"
   ]
  }
 ],
 "metadata": {
  "kernelspec": {
   "display_name": "Python 3",
   "language": "python",
   "name": "python3"
  },
  "language_info": {
   "codemirror_mode": {
    "name": "ipython",
    "version": 3
   },
   "file_extension": ".py",
   "mimetype": "text/x-python",
   "name": "python",
   "nbconvert_exporter": "python",
   "pygments_lexer": "ipython3",
   "version": "3.11.5"
  }
 },
 "nbformat": 4,
 "nbformat_minor": 2
}
