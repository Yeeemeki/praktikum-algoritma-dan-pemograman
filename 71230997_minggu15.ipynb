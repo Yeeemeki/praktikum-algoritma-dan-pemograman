{
 "cells": [
  {
   "cell_type": "code",
   "execution_count": 1,
   "metadata": {},
   "outputs": [
    {
     "name": "stdout",
     "output_type": "stream",
     "text": [
      "17-08-1945 selisih dari hari ini adalah 28776 hari\n",
      "11-11-1785 selisih dari hari ini adalah 87128 hari\n",
      "08-06-1783 selisih dari hari ini adalah 88015 hari\n",
      "02-05-1889 selisih dari hari ini adalah 49336 hari\n"
     ]
    }
   ],
   "source": [
    "import re\n",
    "from datetime import datetime, date\n",
    "\n",
    "teks = \" Pada tanggal 1945-08-17 Indonesia merdeka. Indonesia memiliki beberapa pahlawan nasional, seperti Pangeran Diponegoro (TL: 1785-11-11), Pattimura (TL: 1783-06-08) dan Ki Hajar Dewantara (1889-05-02).\"\n",
    "\n",
    "tl = re.findall(r'\\b(\\d{4}-\\d{2}-\\d{2})\\b', teks)\n",
    "\n",
    "hasil = []\n",
    "for tanggal in tl:\n",
    "    tanggal_obj = datetime.strptime(tanggal, '%Y-%m-%d')\n",
    "\n",
    "    tanggal_str = tanggal_obj.strftime('%d-%m-%Y')\n",
    "    \n",
    "    selisih = (date.today() - tanggal_obj.date()).days\n",
    "\n",
    "    hasil.append(f'{tanggal_str} selisih dari hari ini adalah {selisih} hari')\n",
    "\n",
    "for hasil2 in hasil:\n",
    "    print(hasil2)"
   ]
  },
  {
   "cell_type": "code",
   "execution_count": 1,
   "metadata": {},
   "outputs": [
    {
     "name": "stdout",
     "output_type": "stream",
     "text": [
      "anton@mail.com username: anton , password: OluiTWKr\n",
      "budi@gmail.co.id username: budi , password: ON2KF5S5\n",
      "slamet@getnada.com username: slamet , password: qu1UySV8\n",
      "matahari@tokopedia.com username: matahari , password: YRJA5fOg\n"
     ]
    }
   ],
   "source": [
    "import re\n",
    "import string\n",
    "import random\n",
    "\n",
    "text = \"\"\"\n",
    "Berikut adalah daftar email dan nama pengguna dari mailing list:\n",
    "anton@mail.com dimiliki oleh antonius\n",
    "budi@gmail.co.id dimiliki oleh budi anwari\n",
    "slamet@getnada.com dimiliki oleh slamet slumut\n",
    "matahari@tokopedia.com dimiliki oleh toko matahari\n",
    "\"\"\"\n",
    "\n",
    "emaol = re.findall(r'\\b[A-Za-z0-9._%+-]+@[A-Za-z0-9.-]+\\.[A-Z|a-z]{2,}\\b', text)\n",
    "\n",
    "hasil = []\n",
    "for i in emaol:\n",
    "    username = i.split('@')[0]\n",
    "    password = ''.join(random.choice(string.ascii_letters + string.digits) for _ in range(8))\n",
    "    hasil.append(f\"{i} username: {username} , password: {password}\")\n",
    "\n",
    "for j in hasil:\n",
    "    print(j)"
   ]
  }
 ],
 "metadata": {
  "kernelspec": {
   "display_name": "Python 3",
   "language": "python",
   "name": "python3"
  },
  "language_info": {
   "codemirror_mode": {
    "name": "ipython",
    "version": 3
   },
   "file_extension": ".py",
   "mimetype": "text/x-python",
   "name": "python",
   "nbconvert_exporter": "python",
   "pygments_lexer": "ipython3",
   "version": "3.11.5"
  }
 },
 "nbformat": 4,
 "nbformat_minor": 2
}
