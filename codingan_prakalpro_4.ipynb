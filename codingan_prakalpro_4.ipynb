{
 "cells": [
  {
   "cell_type": "code",
   "execution_count": 2,
   "metadata": {},
   "outputs": [
    {
     "name": "stdout",
     "output_type": "stream",
     "text": [
      "True\n"
     ]
    }
   ],
   "source": [
    "def cek_angka(a,b,c):\n",
    "    if a!=b and b!=c and c!=a:\n",
    "        if a+b==c or b+c==a or c+a==b:\n",
    "            return True \n",
    "    return False\n",
    "    \n",
    "a = int(input('masukan a= '))\n",
    "b = int(input('masukan b= '))\n",
    "c = int(input('masukan c= '))\n",
    "\n",
    "print(cek_angka(a,b,c))"
   ]
  },
  {
   "cell_type": "code",
   "execution_count": null,
   "metadata": {},
   "outputs": [],
   "source": [
    "def cek_digit_belakang(a,b,c):\n",
    "    a = a % 10\n",
    "    b = b % 10\n",
    "    c = c % 10\n",
    "\n",
    "    if a==b or b==c or c == a:\n",
    "        return True\n",
    "    else:\n",
    "        return False\n",
    "    \n",
    "a = int(input('masukan a ='))\n",
    "b = int(input('masukan b ='))\n",
    "c = int(input('masukan c ='))\n",
    "\n",
    "print (cek_digit_belakang(a,b,c))"
   ]
  },
  {
   "cell_type": "code",
   "execution_count": 3,
   "metadata": {},
   "outputs": [
    {
     "name": "stdout",
     "output_type": "stream",
     "text": [
      "pilih konversi yang di inginkan\n",
      "1 = Farenheit\n",
      "2= Reamur\n",
      "input Celcius = 100. output Farenheit = 212.0.\n"
     ]
    }
   ],
   "source": [
    "f = lambda c: (9/5)*c+32\n",
    "r = lambda c: 0.8*c\n",
    "\n",
    "def pilih_konversi():\n",
    "    print(\"pilih konversi yang di inginkan\")\n",
    "    print(\"1 = Farenheit\")\n",
    "    print (\"2= Reamur\")\n",
    "    pilihan = (input(\"masukan konversi yang ingin anda pilih (1/2) = \"))\n",
    "    return int(pilihan)\n",
    "\n",
    "c = int(input(\"masukan suhu celcius =\"))    \n",
    "\n",
    "pilihan_konversi = pilih_konversi()\n",
    "\n",
    "if pilihan_konversi == 1:\n",
    "    output = f(c)\n",
    "    print (\"input Celcius = {}. output Farenheit = {}.\".format(c,output))\n",
    "elif pilihan_konversi == 2:\n",
    "    output = r(c)\n",
    "    print (\"input Celcius = {}. output Reamur = {}.\".format(c,output))"
   ]
  }
 ],
 "metadata": {
  "kernelspec": {
   "display_name": "Python 3",
   "language": "python",
   "name": "python3"
  },
  "language_info": {
   "codemirror_mode": {
    "name": "ipython",
    "version": 3
   },
   "file_extension": ".py",
   "mimetype": "text/x-python",
   "name": "python",
   "nbconvert_exporter": "python",
   "pygments_lexer": "ipython3",
   "version": "3.11.5"
  }
 },
 "nbformat": 4,
 "nbformat_minor": 2
}
