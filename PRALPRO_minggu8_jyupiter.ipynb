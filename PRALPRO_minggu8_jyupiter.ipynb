{
 "cells": [
  {
   "cell_type": "code",
   "execution_count": 3,
   "metadata": {},
   "outputs": [
    {
     "name": "stdout",
     "output_type": "stream",
     "text": [
      "engga beda so tau lu\n",
      "iya sama iya\n",
      "Ada perbedaan antara kedua file\n"
     ]
    }
   ],
   "source": [
    "file1 =  open ('file1.txt')\n",
    "file2 = open ('file2.txt')\n",
    "hasil1 = file1.read()\n",
    "hasil2 = file2.read()\n",
    "\n",
    "print (hasil1)\n",
    "print (hasil2)\n",
    "\n",
    "perbedaan = []\n",
    "for i, (hasil1, hasil2) in enumerate(zip(hasil1, hasil2)):\n",
    "        if hasil1 != hasil2:\n",
    "            perbedaan = True\n",
    "\n",
    "if perbedaan:\n",
    "    print(\"Ada perbedaan antara kedua file\")\n",
    "else:\n",
    "    print(\"Tidak ada perbedaan antara kedua file.\")\n",
    "\n"
   ]
  },
  {
   "cell_type": "code",
   "execution_count": 5,
   "metadata": {},
   "outputs": [
    {
     "name": "stdout",
     "output_type": "stream",
     "text": [
      "nama file =  soal.txt\n",
      "1+1 =\n",
      "jawaban anda benar\n",
      "\n",
      "Bendera Indonesia?\n",
      "jawaban anda salah\n",
      "\n",
      "Kota gudeg adalah:\n",
      "jawaban anda benar\n",
      "\n",
      "Komponen PC untuk penyimpanan file adalah...\n",
      "jawaban anda benar\n",
      "\n",
      "50 * 20 =\n",
      "jawaban anda benar\n",
      "\n"
     ]
    }
   ],
   "source": [
    "namafile = \"soal.txt\"\n",
    "\n",
    "file = open(namafile, 'r')\n",
    "print ('nama file = ', namafile)\n",
    "\n",
    "for line in file:\n",
    "    pertanyaan, jawaban = line.strip().split('||')\n",
    "    pertanyaan = pertanyaan.strip()\n",
    "    jawaban = jawaban.strip()\n",
    "    print(pertanyaan)\n",
    "    jawabanpengguna = input ('jawaban anda = ').strip()\n",
    "    if jawabanpengguna.lower() == jawaban.lower():\n",
    "        print('jawaban anda benar')\n",
    "    else:\n",
    "        print('jawaban anda salah')\n",
    "    print()"
   ]
  }
 ],
 "metadata": {
  "kernelspec": {
   "display_name": "Python 3",
   "language": "python",
   "name": "python3"
  },
  "language_info": {
   "codemirror_mode": {
    "name": "ipython",
    "version": 3
   },
   "file_extension": ".py",
   "mimetype": "text/x-python",
   "name": "python",
   "nbconvert_exporter": "python",
   "pygments_lexer": "ipython3",
   "version": "undefined.undefined.undefined"
  }
 },
 "nbformat": 4,
 "nbformat_minor": 2
}
