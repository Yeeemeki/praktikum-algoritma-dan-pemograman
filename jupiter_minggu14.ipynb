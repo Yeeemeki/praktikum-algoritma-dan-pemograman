{
 "cells": [
  {
   "cell_type": "code",
   "execution_count": 3,
   "metadata": {},
   "outputs": [
    {
     "name": "stdout",
     "output_type": "stream",
     "text": [
      "29 adalah bilangan prima\n"
     ]
    }
   ],
   "source": [
    "def mencaribilanganprima(n,p=None):\n",
    "    if p is None:\n",
    "        p = n - 1\n",
    "    if n < 2:\n",
    "        return False\n",
    "    if p == 1:\n",
    "        return True\n",
    "    if n % p == 0:\n",
    "        return False\n",
    "    return mencaribilanganprima(n, p-1)\n",
    "\n",
    "bilangan = int(input('inputkan suatu bilangan = '))\n",
    "if mencaribilanganprima(bilangan):\n",
    "    print(f'{bilangan} adalah bilangan prima')\n",
    "else:\n",
    "    print(f'{bilangan} bukan bilangan prima')"
   ]
  },
  {
   "cell_type": "code",
   "execution_count": 4,
   "metadata": {},
   "outputs": [
    {
     "name": "stdout",
     "output_type": "stream",
     "text": [
      "A man, a plan, a canal, Panama adalah palindrome\n"
     ]
    }
   ],
   "source": [
    "def palindrome(s, start, end):\n",
    "    if start >= end:\n",
    "        return True\n",
    "    if s[start] != s[end]:\n",
    "        return False\n",
    "    return palindrome(s, start + 1, end - 1)\n",
    "\n",
    "def membersihkan(s):\n",
    "    bersih = []\n",
    "    for i in s:\n",
    "        if i.isalnum():\n",
    "            bersih.append(i.lower())\n",
    "    return ''. join(bersih)\n",
    "\n",
    "def adalahpalindrome(s):\n",
    "    bersihbanget = membersihkan(s)\n",
    "    return palindrome(bersihbanget, 0, len (bersihbanget)-1)\n",
    "\n",
    "kalimat = \"A man, a plan, a canal, Panama\"\n",
    "if adalahpalindrome(kalimat):\n",
    "    print(f'{kalimat} adalah palindrome')\n",
    "else: \n",
    "    print(f'{kalimat}bukan palindorme')"
   ]
  },
  {
   "cell_type": "code",
   "execution_count": 7,
   "metadata": {},
   "outputs": [
    {
     "name": "stdout",
     "output_type": "stream",
     "text": [
      "Jumlah deret bilangan ganjil hingga 9 adalah 25.\n"
     ]
    }
   ],
   "source": [
    "def jumlahganjil(n):\n",
    "    if n < 1:\n",
    "        return 0\n",
    "    if n % 2 == 0:\n",
    "        n -= 1\n",
    "    if n == 1:\n",
    "        return 1\n",
    "    return n + jumlahganjil(n-2)\n",
    "\n",
    "n = int(input('masukan sebuah bilangan = '))\n",
    "hasil = jumlahganjil(n)\n",
    "if jumlahganjil(n):\n",
    "    print(f\"Jumlah deret bilangan ganjil hingga {n} adalah {hasil}.\")"
   ]
  },
  {
   "cell_type": "code",
   "execution_count": 9,
   "metadata": {},
   "outputs": [
    {
     "name": "stdout",
     "output_type": "stream",
     "text": [
      "jumlah dari 234 adalah 9\n"
     ]
    }
   ],
   "source": [
    "def jumlahdaridigit(n):\n",
    "    if n == 0:\n",
    "        return 0\n",
    "    if n <= 10:\n",
    "        return n\n",
    "    return n % 10 + jumlahdaridigit(n // 10)\n",
    "\n",
    "bilangan = int(input(\"masukan sebuah bilangan = \"))\n",
    "hasil = jumlahdaridigit(bilangan)\n",
    "print(f'jumlah dari {bilangan} adalah {hasil}')"
   ]
  },
  {
   "cell_type": "code",
   "execution_count": 21,
   "metadata": {},
   "outputs": [
    {
     "name": "stdout",
     "output_type": "stream",
     "text": [
      "hasil kombinasi dari (10, 8) adalah 45\n"
     ]
    }
   ],
   "source": [
    "def kombinasi(n, k):\n",
    "    if k == 0 or k == n:\n",
    "        return 1\n",
    "    return kombinasi(n-1, k-1) + kombinasi(n-1, k)\n",
    "\n",
    "lima = (int(input('masukan sebuah bilangan = ')))\n",
    "dua = (int(input('masukan sebuah bilangan = ')))\n",
    "hasil = kombinasi(lima, dua)\n",
    "print (f\"hasil kombinasi dari ({lima}, {dua}) adalah {hasil}\")"
   ]
  }
 ],
 "metadata": {
  "kernelspec": {
   "display_name": "Python 3",
   "language": "python",
   "name": "python3"
  },
  "language_info": {
   "codemirror_mode": {
    "name": "ipython",
    "version": 3
   },
   "file_extension": ".py",
   "mimetype": "text/x-python",
   "name": "python",
   "nbconvert_exporter": "python",
   "pygments_lexer": "ipython3",
   "version": "3.11.5"
  }
 },
 "nbformat": 4,
 "nbformat_minor": 2
}
