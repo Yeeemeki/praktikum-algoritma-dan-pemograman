{
 "cells": [
  {
   "cell_type": "code",
   "execution_count": 3,
   "metadata": {},
   "outputs": [
    {
     "name": "stdout",
     "output_type": "stream",
     "text": [
      "3 nilai terbaik adalah=  [100, 95, 90]\n"
     ]
    }
   ],
   "source": [
    "daftar_nilai = [100, 95, 90, 85, 80, 75, 70, 60, 65]\n",
    "sorted_nilai = sorted(daftar_nilai, reverse=True)\n",
    "nilai_terbaik = sorted_nilai[:3]\n",
    "\n",
    "print(\"3 nilai terbaik adalah= \", nilai_terbaik)"
   ]
  },
  {
   "cell_type": "code",
   "execution_count": 2,
   "metadata": {},
   "outputs": [
    {
     "name": "stdout",
     "output_type": "stream",
     "text": [
      "angka yang dimasukan adalah =  [95.0]\n",
      "nilai max dari inputan adalah =  95.0\n",
      "nilai min dari inputan adalah =  95.0\n",
      "angka yang dimasukan adalah =  [95.0, 42.0]\n",
      "nilai max dari inputan adalah =  95.0\n",
      "nilai min dari inputan adalah =  42.0\n",
      "angka yang dimasukan adalah =  [95.0, 42.0, 11.0]\n",
      "nilai max dari inputan adalah =  95.0\n",
      "nilai min dari inputan adalah =  11.0\n",
      "user sudah selesai memasukan angka\n"
     ]
    }
   ],
   "source": [
    "angka = []\n",
    "while True:\n",
    "    input_angka = input ('masuka angka (tulis done untuk selesai memasukan angka)= ')\n",
    "    if input_angka.lower() == 'done':\n",
    "        print('user sudah selesai memasukan angka')\n",
    "        break\n",
    "    try:\n",
    "        inputan = float(input_angka)\n",
    "        angka.append(inputan)\n",
    "    except ValueError:\n",
    "        print(\"INPUTAN TIDAK VALID!! masukan angka atau 'done'\")\n",
    "    \n",
    "    if angka:\n",
    "        nilai_max = max(angka)\n",
    "        nilai_min = min(angka)\n",
    "        print(\"angka yang dimasukan adalah = \", angka)\n",
    "        print(\"nilai max dari inputan adalah = \", nilai_max)\n",
    "        print(\"nilai min dari inputan adalah = \", nilai_min)\n",
    "    else:\n",
    "        print(\"tidak ada angka yang di inputkan\")"
   ]
  },
  {
   "cell_type": "code",
   "execution_count": 4,
   "metadata": {},
   "outputs": [
    {
     "name": "stdout",
     "output_type": "stream",
     "text": [
      "======================================================================================================== ISI BERITA ========================================================================================================\n",
      "On September 7, 1996, at 11:15 p.m. (PDT), Tupac Shakur, a 25-year old American rapper, was fatally shot in a drive-by shooting in Las Vegas, Nevada. The shooting occurred when the car carrying Shakur was stopped at a red light at East Flamingo Road and Koval Lane. \n",
      "Shakur was struck by four rounds fired from a .40-calibre Glock: two in the chest, one in the arm, and one in the thigh. He died from his wounds six days later.\n",
      "On September 29, 2023, 27 years later, Duane \"Keefe D\" Davis was arrested after being indicted by a grand jury for the first-degree murder of Shakur.\n",
      "======================================================================================================== KATA UNIK DALAM FILE ========================================================================================================\n",
      "['On', 'September', '7,', '1996,', 'at', '11:15', 'p.m.', '(PDT),', 'Tupac', 'Shakur,', 'a', '25-year', 'old', 'American', 'rapper,', 'was', 'fatally', 'shot', 'in', 'a', 'drive-by', 'shooting', 'in', 'Las', 'Vegas,', 'Nevada.', 'The', 'shooting', 'occurred', 'when', 'the', 'car', 'carrying', 'Shakur', 'was', 'stopped', 'at', 'a', 'red', 'light', 'at', 'East', 'Flamingo', 'Road', 'and', 'Koval', 'Lane.']\n",
      "['Shakur', 'was', 'struck', 'by', 'four', 'rounds', 'fired', 'from', 'a', '.40-calibre', 'Glock:', 'two', 'in', 'the', 'chest,', 'one', 'in', 'the', 'arm,', 'and', 'one', 'in', 'the', 'thigh.', 'He', 'died', 'from', 'his', 'wounds', 'six', 'days', 'later.']\n",
      "['On', 'September', '29,', '2023,', '27', 'years', 'later,', 'Duane', '\"Keefe', 'D\"', 'Davis', 'was', 'arrested', 'after', 'being', 'indicted', 'by', 'a', 'grand', 'jury', 'for', 'the', 'first-degree', 'murder', 'of', 'Shakur.']\n"
     ]
    }
   ],
   "source": [
    "def k_u(file):\n",
    "    kata_unik = []\n",
    "    try:\n",
    "        with open(file, 'r') as buka_file:\n",
    "            isi_file = buka_file.read()\n",
    "            print (\"======================================================================================================== ISI BERITA ========================================================================================================\")\n",
    "            print(isi_file)\n",
    "        with open(file, 'r') as buka_file:\n",
    "            for line in buka_file:\n",
    "                kata = line.strip().split()\n",
    "                kata_unik.append(kata)\n",
    "    except FileNotFoundError:\n",
    "        print('file tidak ditemukan')\n",
    "    return kata_unik\n",
    "def main():\n",
    "    file = 'file1.txt'\n",
    "\n",
    "    kata_unik = k_u(file)\n",
    "    print(\"======================================================================================================== KATA UNIK DALAM FILE ========================================================================================================\")\n",
    "    for kata in kata_unik:\n",
    "        print(kata)\n",
    "\n",
    "if __name__ == '__main__':\n",
    "    main()"
   ]
  }
 ],
 "metadata": {
  "kernelspec": {
   "display_name": "Python 3",
   "language": "python",
   "name": "python3"
  },
  "language_info": {
   "codemirror_mode": {
    "name": "ipython",
    "version": 3
   },
   "file_extension": ".py",
   "mimetype": "text/x-python",
   "name": "python",
   "nbconvert_exporter": "python",
   "pygments_lexer": "ipython3",
   "version": "3.11.5"
  }
 },
 "nbformat": 4,
 "nbformat_minor": 2
}
