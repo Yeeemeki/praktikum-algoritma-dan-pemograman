{
 "cells": [
  {
   "cell_type": "code",
   "execution_count": 1,
   "metadata": {},
   "outputs": [
    {
     "name": "stdout",
     "output_type": "stream",
     "text": [
      "bilangan prima terdekat kurang dari 12 adalah 11\n"
     ]
    }
   ],
   "source": [
    "def mbp(angka):\n",
    "    if angka <=1:\n",
    "        return False \n",
    "    for i in range(2, int(angka**0.5)+1):\n",
    "        if angka % i == 0:\n",
    "            return False\n",
    "    return True\n",
    "\n",
    "def mbpt(p):\n",
    "    if p <=2:\n",
    "        return None\n",
    "    prima = None\n",
    "    for i in range(p-1, 1, -1):\n",
    "        if mbp(i):\n",
    "            break\n",
    "    return i\n",
    "\n",
    "p = int(input('masukan angka= '))\n",
    "\n",
    "bpt = mbpt(p)\n",
    "\n",
    "if bpt != None:\n",
    "    print (f\"bilangan prima terdekat kurang dari {p} adalah {bpt}\")\n",
    "else:\n",
    "    print (f\"tidak ada bilangan prima terdekat kurang dari {p}\")"
   ]
  },
  {
   "cell_type": "code",
   "execution_count": 2,
   "metadata": {},
   "outputs": [],
   "source": [
    "def kali(hasil):\n",
    "    if hasil == 0 or hasil == 1:\n",
    "        return 1\n",
    "    else: \n",
    "        return hasil * kali(hasil-1)\n",
    "    \n",
    "def deret(p):\n",
    "    for i in range(p, 0, -1):\n",
    "        print(kali(i), end=\" \")\n",
    "        for j in range(i, 0, -1):\n",
    "            print(j, end=\" \")\n",
    "\n",
    "        print()\n",
    "\n",
    "p = int(input(\"masukan bilangan= \"))\n",
    "\n",
    "deret(p)"
   ]
  },
  {
   "cell_type": "code",
   "execution_count": null,
   "metadata": {},
   "outputs": [],
   "source": [
    "def deret(lebar, tinggi):\n",
    "    mulai = 1\n",
    "    hasil = \"selesai\"\n",
    "    for i in range(tinggi):\n",
    "        for j in range(lebar):\n",
    "            print(mulai, end=\" \")\n",
    "            mulai += 1\n",
    "        print()\n",
    "    return hasil\n",
    "\n",
    "lebar = int(input(\"masukan lebar= \"))\n",
    "tinggi = int(input(\"masukan tinggi= \"))\n",
    "\n",
    "print(deret(lebar, tinggi))"
   ]
  }
 ],
 "metadata": {
  "kernelspec": {
   "display_name": "Python 3",
   "language": "python",
   "name": "python3"
  },
  "language_info": {
   "codemirror_mode": {
    "name": "ipython",
    "version": 3
   },
   "file_extension": ".py",
   "mimetype": "text/x-python",
   "name": "python",
   "nbconvert_exporter": "python",
   "pygments_lexer": "ipython3",
   "version": "3.11.5"
  }
 },
 "nbformat": 4,
 "nbformat_minor": 2
}
